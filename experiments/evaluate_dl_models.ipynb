{
 "cells": [
  {
   "cell_type": "code",
   "execution_count": null,
   "metadata": {},
   "outputs": [],
   "source": [
    "import pandas as pd\n",
    "import numpy as np\n",
    "import os\n",
    "\n",
    "import pickle\n",
    "import h5py\n",
    "from subprocess import call\n",
    "\n",
    "import sys\n",
    "sys.path.append('../src')\n",
    "from utils import train_predict_svm, train_predict_mlp, eval_per_attack, execute_test_loop_k, execute_test_loop_retrace\n",
    "\n",
    "\n",
    "city = \"sf\"\n",
    "data_path = f'/home/schestakov/projects/re-identification/data/{city}'\n",
    "data_path_dl = f'/home/schestakov/projects/re-identification/data/{city}/dl_models'\n",
    "\n",
    "\n",
    "train_split = 0.7\n",
    "\n",
    "# Load Data\n",
    "total_set_labels = pickle.load(open(os.path.join(data_path, \"total_set_labels.pkl\"), \"rb\"))\n",
    "total_set_description = pickle.load(open(os.path.join(data_path, \"total_set_description.pkl\"), \"rb\"))"
   ]
  },
  {
   "cell_type": "code",
   "execution_count": null,
   "metadata": {},
   "outputs": [],
   "source": [
    "from sklearn.metrics import accuracy_score, f1_score\n",
    "from sklearn.ensemble import RandomForestClassifier\n",
    "import time\n",
    "\n",
    "models ={\n",
    "    \"ReTrace1\": \"_s_retrace.pkl\",\n",
    "    #\"CLT-sim\": \"_s_cltsim.pkl\",\n",
    "    #\"t2vec\": \"_s_t2vec.pkl\", \n",
    "    \n",
    "}\n",
    "\n",
    "full_eval_results = {}\n",
    "avg_eval_results = {}\n",
    "\n",
    "for name, file_name in models.items():\n",
    "    # Load Embeddings\n",
    "    own_s = pickle.load(open(os.path.join(data_path_dl, \"own\" + file_name), \"rb\"))\n",
    "    total_s = pickle.load(open(os.path.join(data_path_dl, \"total\" + file_name), \"rb\"))\n",
    "\n",
    "    start = time.time()\n",
    "    print(f\"Evaluating {name}.\")\n",
    "    print(\"Obtaining distances\")\n",
    "    distances, train_time = execute_test_loop_k(own_s, total_s, k=3)\n",
    "\n",
    "    print(\"Training predictor\")\n",
    "    # Train a Prediction model and predict\n",
    "    num_train_samples = int( len(total_s) * train_split )\n",
    "    predictions = train_predict_svm(distances[:num_train_samples], distances[num_train_samples:], total_set_labels[:num_train_samples])\n",
    "    end = time.time()\n",
    "    elapsed_time = end - start\n",
    "\n",
    "    # Evaluate overall\n",
    "    accuracy = accuracy_score(total_set_labels[num_train_samples:],predictions)\n",
    "    f1 = f1_score(total_set_labels[num_train_samples:], predictions)\n",
    "    print(f\"{name} Acc: {accuracy:.3f}   F1: {f1:.3f} time: {elapsed_time:.3f}\")\n",
    "\n",
    "    # Evaluate for each attack individually\n",
    "    attacks_res = eval_per_attack(predictions, total_set_description[num_train_samples:], total_set_labels[num_train_samples:])\n",
    "\n",
    "    avg_eval_results[name] = [accuracy,f1]\n",
    "    full_eval_results[name] = attacks_res\n",
    "    full_eval_results[name] = attacks_res\n",
    "    print(\"*************\")"
   ]
  },
  {
   "cell_type": "code",
   "execution_count": null,
   "metadata": {},
   "outputs": [],
   "source": [
    "# Convert Results to DF\n",
    "result_data= []\n",
    "for model_name, attack_res in full_eval_results.items():\n",
    "    acc = avg_eval_results[model_name][0]\n",
    "    f1 = avg_eval_results[model_name][1]\n",
    "    result_data.append([model_name, elapsed_time, 1, 'AVG', acc, f1])\n",
    "    for attack_name, value in attack_res.items():\n",
    "        result_data.append([model_name, elapsed_time, 1, attack_name, value[0], value[1]])\n",
    "\n",
    "df = pd.DataFrame(result_data, columns=['Model', 'Time', 'cores', 'Attack', 'Accuracy', 'F1'])\n",
    "df"
   ]
  },
  {
   "cell_type": "code",
   "execution_count": null,
   "metadata": {},
   "outputs": [],
   "source": [
    "# Safe as CSV\n",
    "from datetime import datetime\n",
    "result_path = 'results'\n",
    "timestamp = datetime.now().strftime(\"%m.%d._%H.%M\")\n",
    "df.to_csv(f\"{result_path}/retrace_{timestamp}_{city}.csv\")"
   ]
  }
 ],
 "metadata": {
  "kernelspec": {
   "display_name": "traje",
   "language": "python",
   "name": "python3"
  },
  "language_info": {
   "codemirror_mode": {
    "name": "ipython",
    "version": 3
   },
   "file_extension": ".py",
   "mimetype": "text/x-python",
   "name": "python",
   "nbconvert_exporter": "python",
   "pygments_lexer": "ipython3",
   "version": "3.9.15"
  },
  "orig_nbformat": 4
 },
 "nbformat": 4,
 "nbformat_minor": 2
}
